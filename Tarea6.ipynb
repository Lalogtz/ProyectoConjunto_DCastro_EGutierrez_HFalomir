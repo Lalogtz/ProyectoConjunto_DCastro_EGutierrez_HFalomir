{
 "cells": [
  {
   "cell_type": "markdown",
   "metadata": {},
   "source": [
    "<img style=\"float: left; margin: 30px 15px 15px 15px;\" src=\"https://upload.wikimedia.org/wikipedia/commons/d/db/Logo_ITESO_normal.jpg\" width=\"300\" height=\"500\" /> \n",
    "    \n",
    "    \n",
    "### Simulación de procesos financieros. \n",
    "\n",
    "**Nombres:** \n",
    "\n",
    "Estudiante 1: Castro\n",
    "\n",
    "Estudiante 2: Héctor Josué Falomir Patrón\n",
    "\n",
    "Estudiante 3: Eduardo Gutiérrez Flores\n",
    "\n",
    "**Fecha:** 13 de marzo del 2024.\n",
    "\n",
    "**Expediente** : `[#####, 753046, 741305]`\n",
    "**Profesor:** Oscar David Jaramillo Zuluaga.\n",
    "    \n",
    "**Link Github**: https://github.com/Lalogtz/ProyectoConjunto_DCastro_EGutierrez_HFalomir\n",
    "\n",
    "# Tarea 6: Clase 13"
   ]
  },
  {
   "cell_type": "markdown",
   "metadata": {},
   "source": [
    "# Tarea 6\n",
    "\n",
    "Aproxime el valor de la siguiente integral usando el método monte carlo crudo y método de reducción de varianza de muestreo estratíficado\n",
    "\n",
    "$$I=\\int_{0}^{1}e^{x^2}\\text{d}x\\approx 1.46265$$\n",
    "\n",
    "Pasos\n",
    "1. Cree una función que realice el método de muestreo estratíficado (igualmente espaciado), recibiendo como  parámetros de entrada la cantidad de estratos, los valores a y b en los cuales se deben de generar los números aletorios y retornando las variables estratíficadas correspondientes.\n",
    "2. Cree una función que realice el método de muestreo estratíficado (con intervalos no igualmente espaciados), recibiendo como parámetro la cantidad de términos que se tienen que generar en cada estrato y regrese las variables aleatorias estratificadas correspondientes.\n",
    "2. Reporte los resultados de la aproximación de la integral usando montecarlo crudo y muestreo estratíficado, en un Dataframe con la información mostrada en la siguiente tabla:\n",
    "\n",
    "| Cantidad de términos | Montecarlo crudo | Error 1% | Montecarlo estratíficado 1 | Error 2 % | Montecarlo estratíficado 2 | Error 3 % |\n",
    "|:--------------------:|:----------------:|:--------:|:--------------------------:|:---------:|:--------------------------:|:---------:|\n",
    "|          10          |                  |          |                            |           |                            |           |\n",
    "|          100         |                  |          |                            |           |                            |           |\n",
    "|         1000         |                  |          |                            |           |                            |           |\n",
    "|         10000        |                  |          |                            |           |                            |           |\n",
    "|        100000        |                  |          |                            |           |                            |           |\n",
    "|        1000000       |                  |          |                            |           |                            |           |"
   ]
  },
  {
   "cell_type": "markdown",
   "metadata": {},
   "source": [
    "### Librerias "
   ]
  },
  {
   "cell_type": "code",
   "execution_count": 1,
   "metadata": {},
   "outputs": [],
   "source": [
    "import numpy as np\n",
    "import pandas as pd"
   ]
  },
  {
   "cell_type": "markdown",
   "metadata": {},
   "source": [
    "### Paso 1"
   ]
  },
  {
   "cell_type": "code",
   "execution_count": null,
   "metadata": {},
   "outputs": [],
   "source": [
    "# Estudiante 1"
   ]
  },
  {
   "cell_type": "code",
   "execution_count": 1,
   "metadata": {},
   "outputs": [],
   "source": [
    "# Estudiante 2"
   ]
  },
  {
   "cell_type": "code",
   "execution_count": 8,
   "metadata": {},
   "outputs": [],
   "source": [
    "# Estudiante 3\n",
    "def muestreo_estratificado_igual(n, a, b):\n",
    "    u = np.random.uniform(0, 1, n)\n",
    "    i = np.arange(0, n)\n",
    "    return a + (b - a) * (u + i) / n\n",
    "\n",
    "def monte_carlo_crudo(func, a, b, n):\n",
    "    x = np.random.uniform(a, b, n)\n",
    "    return np.mean(func(x) * (b - a))"
   ]
  },
  {
   "cell_type": "markdown",
   "metadata": {},
   "source": [
    "### Paso 2"
   ]
  },
  {
   "cell_type": "code",
   "execution_count": 9,
   "metadata": {},
   "outputs": [],
   "source": [
    "# Estudiante 1"
   ]
  },
  {
   "cell_type": "code",
   "execution_count": 10,
   "metadata": {},
   "outputs": [],
   "source": [
    "# Estudiante 2"
   ]
  },
  {
   "cell_type": "code",
   "execution_count": 11,
   "metadata": {},
   "outputs": [],
   "source": [
    "# Estudiante 3\n",
    "def muestreo_estratificado_no_igual(n, a, b):\n",
    "    u = np.random.uniform(0, 1, n)\n",
    "    i = np.arange(0, n)\n",
    "    return a + (b - a) * (np.sin((np.pi * (u + i)) / n) + 1) / 2"
   ]
  },
  {
   "cell_type": "markdown",
   "metadata": {},
   "source": [
    "### Paso 3"
   ]
  },
  {
   "cell_type": "code",
   "execution_count": 12,
   "metadata": {},
   "outputs": [],
   "source": [
    "# Estudiante 1"
   ]
  },
  {
   "cell_type": "code",
   "execution_count": 13,
   "metadata": {},
   "outputs": [],
   "source": [
    "# Estudiante 2"
   ]
  },
  {
   "cell_type": "code",
   "execution_count": 14,
   "metadata": {},
   "outputs": [
    {
     "data": {
      "text/html": [
       "<div>\n",
       "<style scoped>\n",
       "    .dataframe tbody tr th:only-of-type {\n",
       "        vertical-align: middle;\n",
       "    }\n",
       "\n",
       "    .dataframe tbody tr th {\n",
       "        vertical-align: top;\n",
       "    }\n",
       "\n",
       "    .dataframe thead th {\n",
       "        text-align: right;\n",
       "    }\n",
       "</style>\n",
       "<table border=\"1\" class=\"dataframe\">\n",
       "  <thead>\n",
       "    <tr style=\"text-align: right;\">\n",
       "      <th></th>\n",
       "      <th>Cantidad de términos</th>\n",
       "      <th>Montecarlo crudo</th>\n",
       "      <th>Error 1%</th>\n",
       "      <th>Montecarlo estratificado 1</th>\n",
       "      <th>Error 2%</th>\n",
       "      <th>Montecarlo estratificado 2</th>\n",
       "      <th>Error 3%</th>\n",
       "    </tr>\n",
       "  </thead>\n",
       "  <tbody>\n",
       "    <tr>\n",
       "      <th>0</th>\n",
       "      <td>10</td>\n",
       "      <td>1.403324</td>\n",
       "      <td>4.056037</td>\n",
       "      <td>1.569688</td>\n",
       "      <td>7.318061</td>\n",
       "      <td>1.590149</td>\n",
       "      <td>8.717015</td>\n",
       "    </tr>\n",
       "    <tr>\n",
       "      <th>1</th>\n",
       "      <td>100</td>\n",
       "      <td>1.393197</td>\n",
       "      <td>4.748413</td>\n",
       "      <td>1.433546</td>\n",
       "      <td>1.989792</td>\n",
       "      <td>1.526474</td>\n",
       "      <td>4.363581</td>\n",
       "    </tr>\n",
       "    <tr>\n",
       "      <th>2</th>\n",
       "      <td>1000</td>\n",
       "      <td>1.456133</td>\n",
       "      <td>0.445547</td>\n",
       "      <td>1.473674</td>\n",
       "      <td>0.753667</td>\n",
       "      <td>1.468550</td>\n",
       "      <td>0.403364</td>\n",
       "    </tr>\n",
       "    <tr>\n",
       "      <th>3</th>\n",
       "      <td>10000</td>\n",
       "      <td>1.461994</td>\n",
       "      <td>0.044880</td>\n",
       "      <td>1.462743</td>\n",
       "      <td>0.006378</td>\n",
       "      <td>1.463719</td>\n",
       "      <td>0.073115</td>\n",
       "    </tr>\n",
       "    <tr>\n",
       "      <th>4</th>\n",
       "      <td>100000</td>\n",
       "      <td>1.461441</td>\n",
       "      <td>0.082672</td>\n",
       "      <td>1.462636</td>\n",
       "      <td>0.000976</td>\n",
       "      <td>1.464514</td>\n",
       "      <td>0.127462</td>\n",
       "    </tr>\n",
       "    <tr>\n",
       "      <th>5</th>\n",
       "      <td>1000000</td>\n",
       "      <td>1.462671</td>\n",
       "      <td>0.001438</td>\n",
       "      <td>1.462419</td>\n",
       "      <td>0.015799</td>\n",
       "      <td>1.462392</td>\n",
       "      <td>0.017616</td>\n",
       "    </tr>\n",
       "  </tbody>\n",
       "</table>\n",
       "</div>"
      ],
      "text/plain": [
       "   Cantidad de términos  Montecarlo crudo  Error 1%  \\\n",
       "0                    10          1.403324  4.056037   \n",
       "1                   100          1.393197  4.748413   \n",
       "2                  1000          1.456133  0.445547   \n",
       "3                 10000          1.461994  0.044880   \n",
       "4                100000          1.461441  0.082672   \n",
       "5               1000000          1.462671  0.001438   \n",
       "\n",
       "   Montecarlo estratificado 1  Error 2%  Montecarlo estratificado 2  Error 3%  \n",
       "0                    1.569688  7.318061                    1.590149  8.717015  \n",
       "1                    1.433546  1.989792                    1.526474  4.363581  \n",
       "2                    1.473674  0.753667                    1.468550  0.403364  \n",
       "3                    1.462743  0.006378                    1.463719  0.073115  \n",
       "4                    1.462636  0.000976                    1.464514  0.127462  \n",
       "5                    1.462419  0.015799                    1.462392  0.017616  "
      ]
     },
     "execution_count": 14,
     "metadata": {},
     "output_type": "execute_result"
    }
   ],
   "source": [
    "# Estudiante 3\n",
    "def integrand(x):\n",
    "    return np.exp(x**2)\n",
    "# Definir los valores de a y b\n",
    "a = 0\n",
    "b = 1\n",
    "# Definir la cantidad de términos\n",
    "n_values = [10, 100, 1000, 10000, 100000, 1000000]\n",
    "results = []\n",
    "\n",
    "for n in n_values:\n",
    "    # Monte Carlo crudo\n",
    "    mc_crudo = monte_carlo_crudo(integrand, a, b, n)\n",
    "    error_1 = np.abs(mc_crudo - 1.46265) / 1.46265 * 100\n",
    "    \n",
    "    # Muestreo estratificado igualmente espaciado\n",
    "    estratificado_1 = monte_carlo_crudo(integrand, a, b, n)\n",
    "    error_2 = np.abs(estratificado_1 - 1.46265) / 1.46265 * 100\n",
    "    \n",
    "    # Muestreo estratificado no igualmente espaciado\n",
    "    estratificado_2 = monte_carlo_crudo(integrand, a, b, n)\n",
    "    error_3 = np.abs(estratificado_2 - 1.46265) / 1.46265 * 100\n",
    "    \n",
    "    # Almacenar los resultados\n",
    "    results.append([n, mc_crudo, error_1, estratificado_1, error_2, estratificado_2, error_3])\n",
    "\n",
    "# Crear un DataFrame para mostrar los resultados\n",
    "df = pd.DataFrame(results, columns=[\"Cantidad de términos\", \"Montecarlo crudo\", \"Error 1%\", \"Montecarlo estratificado 1\", \"Error 2%\", \"Montecarlo estratificado 2\", \"Error 3%\"])\n",
    "df"
   ]
  },
  {
   "cell_type": "code",
   "execution_count": null,
   "metadata": {},
   "outputs": [],
   "source": []
  }
 ],
 "metadata": {
  "kernelspec": {
   "display_name": "Python 3 (ipykernel)",
   "language": "python",
   "name": "python3"
  },
  "language_info": {
   "codemirror_mode": {
    "name": "ipython",
    "version": 3
   },
   "file_extension": ".py",
   "mimetype": "text/x-python",
   "name": "python",
   "nbconvert_exporter": "python",
   "pygments_lexer": "ipython3",
   "version": "3.9.13"
  }
 },
 "nbformat": 4,
 "nbformat_minor": 2
}
